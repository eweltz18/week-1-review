{
 "cells": [
  {
   "cell_type": "markdown",
   "metadata": {},
   "source": [
    "# Raw data\n",
    "\n",
    "First, we need to get the raw data. The 20 Newsgroups dataset is so popular that Scikit-Learn comes with some tools for getting the data. No scraping the web or unzipping data folders. We'll [preprocess the data](http://scikit-learn.org/stable/datasets/twenty_newsgroups.html#filtering-text-for-more-realistic-training) by removing headers, footers, and quotes (which Scikit-Learn also handles for us). This gives us just the raw post text. For speed, we'll also take a random sample of 500 posts instead of all of them."
   ]
  },
  {
   "cell_type": "code",
   "execution_count": null,
   "metadata": {
    "collapsed": true
   },
   "outputs": [],
   "source": [
    "from sklearn.datasets import fetch_20newsgroups\n",
    "\n",
    "CATEGORIES = ('alt.atheism', 'talk.religion.misc', 'comp.graphics', 'sci.space')\n",
    "RM = ('headers', 'footers', 'quotes')\n",
    "\n",
    "def get_newsgroups(subset, remove=RM, categories=CATEGORIES, n=None):\n",
    "    raw = fetch_20newsgroups(subset=subset, remove=remove, categories=categories, shuffle=True)\n",
    "    n = n or len(raw.data)\n",
    "    return raw.data[:n], raw.target[:n]\n",
    "\n",
    "train_raw, train_y = get_newsgroups('train', n=500)"
   ]
  },
  {
   "cell_type": "code",
   "execution_count": null,
   "metadata": {},
   "outputs": [],
   "source": [
    "print(\"Number of raw posts: {0}\".format(len(train_raw)))\n",
    "print(\"Shape of train_y: {0}\".format(train_y.shape))"
   ]
  },
  {
   "cell_type": "markdown",
   "metadata": {},
   "source": [
    "We want to define all of our operations on the training data as functions, since we need to apply the exact same sequence to process the test data. Our function returns a list of 500 strings (the raw post text) and a NumPy vector with 500 entries. `train_y[i]` is the category of `train_raw[i]`. So if `train_y[i]` is `0`, that means the true category of `train_raw[i]` is `alt.atheism`. It will take a minute or two to run the first time, since it needs to download the data."
   ]
  },
  {
   "cell_type": "code",
   "execution_count": null,
   "metadata": {},
   "outputs": [],
   "source": [
    "print(type(train_raw[0]))\n",
    "print(\"\\n{0}\\n\".format('-'*40))\n",
    "print(train_raw[0])\n",
    "print(\"\\n{0}\\n\".format('-'*40))\n",
    "print(\"TRUE LABEL: {0}\".format(train_y[0]))"
   ]
  },
  {
   "cell_type": "markdown",
   "metadata": {},
   "source": [
    "# Structured data\n",
    "\n",
    "Now it's time for spaCy. We need to parse the raw text (most importantly, tokenize it) so that we have a structured format we can create features with. We'll always want to do this, so let's just wrap `get_newsgroups(...)`."
   ]
  },
  {
   "cell_type": "code",
   "execution_count": null,
   "metadata": {
    "collapsed": true
   },
   "outputs": [],
   "source": [
    "import spacy\n",
    "\n",
    "nlp = spacy.load('en')\n",
    "\n",
    "def get_newsgroups_parsed(subset, nlp=nlp, remove=RM, categories=CATEGORIES, n=None):\n",
    "    \"\"\"Return a tuple of (List of parsed posts, NumPy vector of labels)\"\"\"\n",
    "    raise NotImplementedError()\n",
    "\n",
    "train_parsed, train_y = get_newsgroups_parsed('train', n=500)"
   ]
  },
  {
   "cell_type": "code",
   "execution_count": null,
   "metadata": {},
   "outputs": [],
   "source": [
    "print(type(train_parsed[0]))\n",
    "print(\"\\n{0}\\n\".format('-'*40))\n",
    "print(train_parsed[0])\n",
    "print(\"\\n{0}\\n\".format('-'*40))\n",
    "print(\"TRUE LABEL: {0}\".format(train_y[0]))"
   ]
  },
  {
   "cell_type": "markdown",
   "metadata": {},
   "source": [
    "# Feature engineering\n",
    "\n",
    "Our features will be bags-of-bigrams. That means we need to get the list of unigrams and bigrams that appear in each post. But first, we need to do some engineering. The following function will take a post and perform the following operations:\n",
    "\n",
    "* Filter out punctuation, numbers, etc. from unigrams and bigrams\n",
    "* Filter out stopwords (words with no semantic information like \"the\" or \"and\") from unigrams\n",
    "* Lowercase all words\n",
    "* Lemmatize all verbs (i.e. take the root)\n",
    "* Use the named entity tags from spaCy to replace all person names with a special word (`~~PERSON~~`) in bigrams\n",
    "\n",
    "This lets us generalize the information in the posts, so that our model won't overfit to the specific language used in the training set. The function isn't very general or efficient, but it illustrates the behavior we want pretty clearly."
   ]
  },
  {
   "cell_type": "code",
   "execution_count": null,
   "metadata": {
    "collapsed": true
   },
   "outputs": [],
   "source": [
    "PERSON = '~~PERSON~~'\n",
    "\n",
    "# Check if is person, returns PERSON if wanted\n",
    "# Runs is_alpha filter on token, returns None if failed\n",
    "# Otherwise, lemmatizes if a verb and returns lowercased string\n",
    "def process_token(token, swap_person=False):\n",
    "    \"\"\"\n",
    "    Return PERSON if token is tagged as 'PERSON' and swap_person is True\n",
    "    Return None if token.is_alpha is False\n",
    "    Return stripped, lowercase token lemma if it's a verb\n",
    "    Return stripped, lowercase token string otherwise\n",
    "    \"\"\"\n",
    "    raise NotImplementedError()\n",
    "\n",
    "# Get the list of unigrams and bigrams for each post\n",
    "def featurize_post(post):\n",
    "    unigrams, bigrams = [], []\n",
    "    for sentence in post.sents:\n",
    "        last_word, last_token = None, None\n",
    "        for token in sentence:\n",
    "            # First add unigram if not a stopword\n",
    "            word = process_token(token, swap_person=False)\n",
    "            if word is not None and not token.is_stop:\n",
    "                unigrams.append(word)\n",
    "            # Then add preceeding bigram if both aren't stopwords\n",
    "            word_swap = process_token(token, swap_person=True)\n",
    "            if (word_swap is not None) and (last_word is not None):\n",
    "                if not token.is_stop or not last_token.is_stop:\n",
    "                    bigrams.append((last_word, word_swap))\n",
    "            last_word, last_token = word_swap, token\n",
    "    return unigrams, bigrams\n",
    "\n",
    "\n",
    "def featurize_all_posts(posts):\n",
    "    return zip(*[featurize_post(post) for post in posts])"
   ]
  },
  {
   "cell_type": "markdown",
   "metadata": {},
   "source": [
    "Let's featurize all of the posts and collect all of the unigrams and bigrams in the training set to create a dictionary."
   ]
  },
  {
   "cell_type": "code",
   "execution_count": null,
   "metadata": {
    "collapsed": true
   },
   "outputs": [],
   "source": [
    "train_unigrams, train_bigrams = featurize_all_posts(train_parsed)"
   ]
  },
  {
   "cell_type": "code",
   "execution_count": null,
   "metadata": {
    "collapsed": true
   },
   "outputs": [],
   "source": [
    "all_unigrams = list(set(gram for post in train_unigrams for gram in post))\n",
    "all_bigrams = list(set(gram for post in train_bigrams for gram in post))"
   ]
  },
  {
   "cell_type": "code",
   "execution_count": null,
   "metadata": {},
   "outputs": [],
   "source": [
    "print(\"Unigram dictionary size (i.e. total number of unigram features): {0}\".format(len(all_unigrams)))\n",
    "print(\"\\nFirst 15 entries:\")\n",
    "print(\"\\n\".join(\"{0:<4}{1}\".format(k, v) for k, v in enumerate(all_unigrams[:15])))"
   ]
  },
  {
   "cell_type": "code",
   "execution_count": null,
   "metadata": {},
   "outputs": [],
   "source": [
    "print(\"Bigram dictionary size (i.e. total number of bigram features): {0}\".format(len(all_bigrams)))\n",
    "print(\"\\nFirst 15 entries:\")\n",
    "print(\"\\n\".join(\"{0:<4}{1}\".format(k, v) for k, v in enumerate(all_bigrams[:15])))"
   ]
  },
  {
   "cell_type": "markdown",
   "metadata": {},
   "source": [
    "# Matrix format"
   ]
  },
  {
   "cell_type": "markdown",
   "metadata": {},
   "source": [
    "## Bag-of-ngrams\n",
    "\n",
    "Let's start with a simple representation: a bag-of-ngrams. We'll create a unigram matrix $X_{\\text{unigram}}$ (dimensions $500 \\times 8950$) and a bigram matrix $X_{\\text{bigram}}$ (dimensions $500 \\times 30535$), then just stack them to create our final $X$ (dimensions $500 \\times 39485$). We'll write a couple functions to do this."
   ]
  },
  {
   "cell_type": "code",
   "execution_count": null,
   "metadata": {
    "collapsed": true
   },
   "outputs": [],
   "source": [
    "import numpy as np\n",
    "from collections import Counter\n",
    "\n",
    "\n",
    "# Construct X_unigram or X_bigram\n",
    "def posts_to_matrix(posts, vocab):\n",
    "    # Initialize matrix\n",
    "    X = np.zeros((len(posts), len(vocab)))\n",
    "    for i, post in enumerate(posts):\n",
    "        # Get counts of ngrams in post that are also in vocab\n",
    "        post_filtered = [p for p in Counter(post).items() if p[0] in vocab]\n",
    "        if len(post_filtered) > 0:\n",
    "            keys, cts = zip(*post_filtered)\n",
    "            # Insert counts into row using vocabulary index\n",
    "            X[i, np.ravel([vocab[k] for k in keys])] = np.ravel(cts)\n",
    "    return X\n",
    "\n",
    "\n",
    "# Constucts X_unigram and X_bigram, then merges\n",
    "def construct_feature_matrix(unigrams, bigrams, unigram_vocab, bigram_vocab):\n",
    "    X_unigram = posts_to_matrix(unigrams, unigram_vocab)\n",
    "    X_bigram = posts_to_matrix(bigrams, bigram_vocab)\n",
    "    return np.hstack((X_unigram, X_bigram))"
   ]
  },
  {
   "cell_type": "markdown",
   "metadata": {},
   "source": [
    "Now we just construct the vocabularies as dictionaries mapping the word to their fixed index, then build the matrix."
   ]
  },
  {
   "cell_type": "code",
   "execution_count": null,
   "metadata": {
    "collapsed": true
   },
   "outputs": [],
   "source": [
    "unigram_vocab = {unigram: i for i, unigram in enumerate(all_unigrams)}\n",
    "bigram_vocab = {bigram: i for i, bigram in enumerate(all_bigrams)}\n",
    "\n",
    "train_X = construct_feature_matrix(train_unigrams, train_bigrams, unigram_vocab, bigram_vocab)"
   ]
  },
  {
   "cell_type": "code",
   "execution_count": null,
   "metadata": {},
   "outputs": [],
   "source": [
    "print(\"X shape:                     {0}\".format(train_X.shape))\n",
    "print(\"# of non-zero entries in X:  {0}\".format(np.sum(train_X != 0)))\n",
    "print(\"% of non-zero entries in X:  {0:.2f}%\".format(100 * np.mean(train_X != 0)))"
   ]
  },
  {
   "cell_type": "markdown",
   "metadata": {},
   "source": [
    "The matrix is very large, but quite sparse (almost all of the entries are zero). Our representation is very inefficient, but it's fine for our purposes. If we're training a simple softmax regression model, that means we have to train one parameter per ngram per category:\n",
    "\n",
    "$\\theta_{1,1}, \\theta_{1,2}, ...\\theta_{4, 39485}$&nbsp;&nbsp;&nbsp;&nbsp;&nbsp;&nbsp;or&nbsp;&nbsp;&nbsp;&nbsp;&nbsp;&nbsp;$\\theta_{\\text{Atheism},\\text{ (able, )}}, \\theta_{\\text{Atheism},\\text{ (alert, )}}, ...\\theta_{\\text{Space}, \\text{ (zebra, run)}}$"
   ]
  },
  {
   "cell_type": "markdown",
   "metadata": {},
   "source": [
    "## Word vectors\n",
    "\n",
    "Finally, let's create a different matrix format using word vectors: the 300 dimensional vectors we use to represent words. We'll just use unigrams for this one. We'll first construct the embedding table: the list of all the embeddings we care about."
   ]
  },
  {
   "cell_type": "code",
   "execution_count": null,
   "metadata": {
    "collapsed": true
   },
   "outputs": [],
   "source": [
    "U = np.vstack([nlp(word).vector for word in all_unigrams])"
   ]
  },
  {
   "cell_type": "markdown",
   "metadata": {},
   "source": [
    "Now we'll write a function to collect all of the embeddings in a post. The X we return will be a list, but we can think of it like a matrix with shape $[\\text{Number of posts}, \\text{Length of post}, \\text{Embedding dimension}]$. For our purposes, this is $[500, \\textit{Varies}, 300]$ since spaCy defaults to the 300-dimensional GloVe embeddings."
   ]
  },
  {
   "cell_type": "code",
   "execution_count": null,
   "metadata": {
    "collapsed": true
   },
   "outputs": [],
   "source": [
    "def posts_to_embedding_matrix(posts, vocab, embedding_table):\n",
    "    \"\"\"Return a list of NumPy matrices\n",
    "    The rows of each matrix should contain the embedding vectors of\n",
    "    all of the words contained in the post that the matrix corresponds to\n",
    "    \"\"\"\n",
    "    raise NotImplementedError()"
   ]
  },
  {
   "cell_type": "markdown",
   "metadata": {},
   "source": [
    "We want one vector for each post, so we can just take the means down the columns of the matrices stored in `train_X_embedding_all` and stack all of those to create one $500 \\times 300$ matrix."
   ]
  },
  {
   "cell_type": "code",
   "execution_count": null,
   "metadata": {
    "collapsed": true
   },
   "outputs": [],
   "source": [
    "def construct_feature_matrix_embedding(posts, vocab, embedding_table):\n",
    "    X_embedding_all = posts_to_embedding_matrix(posts, vocab, embedding_table)\n",
    "    return np.vstack([np.mean(X_post, axis=0) for X_post in X_embedding_all])\n",
    "\n",
    "train_X_embedding = construct_feature_matrix_embedding(train_unigrams, unigram_vocab, U)"
   ]
  },
  {
   "cell_type": "code",
   "execution_count": null,
   "metadata": {},
   "outputs": [],
   "source": [
    "print(\"X_embedding shape:                     {0}\".format(train_X_embedding.shape))\n",
    "print(\"# of non-zero entries in X_embedding:  {0}\".format(np.sum(train_X_embedding != 0)))\n",
    "print(\"% of non-zero entries in X_embedding:  {0:.2f}%\".format(100 * np.mean(train_X_embedding != 0)))"
   ]
  },
  {
   "cell_type": "markdown",
   "metadata": {},
   "source": [
    "This new representation is much smaller ($500 \\times 300$ vs. $500 \\times 40000$ish), but much denser. Overall, it has more non-zero entries than the bag-of-words matrix. The information is much less granular, since we took the mean of the word embeddings. If we're training a simple softmax regression model, that means we have to train one parameter per dimension per model:\n",
    "\n",
    "$\\theta_{1,1}, \\theta_{1,2}, ...\\theta_{4, 300}$&nbsp;&nbsp;&nbsp;&nbsp;&nbsp;&nbsp;or&nbsp;&nbsp;&nbsp;&nbsp;&nbsp;&nbsp;$\\theta_{\\text{Atheism},\\text{ Dim. 1}}, \\theta_{\\text{Atheism},\\text{ Dim. 2}}, ...\\theta_{\\text{Space}, \\text{ Dim. 300}}$\n",
    "\n",
    "That's way fewer than we had to train for the bag-of-words model."
   ]
  },
  {
   "cell_type": "markdown",
   "metadata": {},
   "source": [
    "# Training a simple model (or two)\n",
    "\n",
    "We now have two matrix representations of our posts. Let's try training a couple models and see which does better! We'll use sklearn."
   ]
  },
  {
   "cell_type": "code",
   "execution_count": null,
   "metadata": {
    "collapsed": true
   },
   "outputs": [],
   "source": [
    "from sklearn.linear_model import LogisticRegression\n",
    "\n",
    "model_kwargs = {\n",
    "    'penalty': 'l2',\n",
    "    'C': 1.0,\n",
    "    'solver': 'lbfgs',\n",
    "    'multi_class': 'multinomial',\n",
    "    'verbose': 0\n",
    "}"
   ]
  },
  {
   "cell_type": "code",
   "execution_count": null,
   "metadata": {},
   "outputs": [],
   "source": [
    "F_bow = LogisticRegression(**model_kwargs)\n",
    "F_bow.fit(train_X, train_y)"
   ]
  },
  {
   "cell_type": "code",
   "execution_count": null,
   "metadata": {},
   "outputs": [],
   "source": [
    "F_embedding = LogisticRegression(**model_kwargs)\n",
    "F_embedding.fit(train_X_embedding, train_y)"
   ]
  },
  {
   "cell_type": "markdown",
   "metadata": {},
   "source": [
    "## Model selection\n",
    "\n",
    "So which of these models is better? They both trained without giving an error. We could compare how well they do on the training set."
   ]
  },
  {
   "cell_type": "code",
   "execution_count": null,
   "metadata": {},
   "outputs": [],
   "source": [
    "bow_acc = F_bow.score(train_X, train_y)\n",
    "embedding_acc = F_embedding.score(train_X_embedding, train_y)\n",
    "\n",
    "print(\"Bag-of-words model training set accuracy: {0:.2f}%\".format(100 * bow_acc))\n",
    "print(\"Embedding model training set accuracy:    {0:.2f}%\".format(100 * embedding_acc))"
   ]
  },
  {
   "cell_type": "markdown",
   "metadata": {},
   "source": [
    "So the bag-of-words model does much better on the training set. But maybe it's just overfit to that dataset and won't generalize well. The best measure of model performance is to score it on an unseen validation set. The 20 Newsgroups dataset has a test set, which we'll pretend is a validation set. In essence, they're the same. But we really shouldn't look at it until we want a final, final score. Side note: look how it easy it is after we wrote those functions."
   ]
  },
  {
   "cell_type": "code",
   "execution_count": null,
   "metadata": {
    "collapsed": true
   },
   "outputs": [],
   "source": [
    "# Get data\n",
    "test_parsed, test_y = get_newsgroups_parsed('test')\n",
    "# Featurize\n",
    "test_unigrams, test_bigrams = featurize_all_posts(test_parsed)\n",
    "# Build BoW matrix\n",
    "test_X = construct_feature_matrix(test_unigrams, test_bigrams, unigram_vocab, bigram_vocab)\n",
    "# Build embedding matrix\n",
    "test_X_embedding = construct_feature_matrix_embedding(test_unigrams, unigram_vocab, U)"
   ]
  },
  {
   "cell_type": "code",
   "execution_count": null,
   "metadata": {},
   "outputs": [],
   "source": [
    "bow_test_acc = F_bow.score(test_X, test_y)\n",
    "embedding_test_acc = F_embedding.score(test_X_embedding, test_y)\n",
    "\n",
    "print(\"Bag-of-words model test set accuracy: {0:.2f}%\".format(100 * bow_test_acc))\n",
    "print(\"Embedding model test set accuracy:    {0:.2f}%\".format(100 * embedding_test_acc))"
   ]
  },
  {
   "cell_type": "markdown",
   "metadata": {},
   "source": [
    "Look at that: the bag-of-words model is overfit. It does much better on the training set, but the embedding model does better on the test set. So how can we improve these models? The best way is certainly to use the full training set. But we could also tune hyperparameters. In `model_kwargs`, `C` describes the strength of the $\\ell_2$ regularizer. Increasing the strength (reducing `C`) could reduce overfitting for `F_bow`."
   ]
  }
 ],
 "metadata": {
  "kernelspec": {
   "display_name": "Python 3",
   "language": "python",
   "name": "python3"
  },
  "language_info": {
   "codemirror_mode": {
    "name": "ipython",
    "version": 3
   },
   "file_extension": ".py",
   "mimetype": "text/x-python",
   "name": "python",
   "nbconvert_exporter": "python",
   "pygments_lexer": "ipython3",
   "version": "3.6.1"
  }
 },
 "nbformat": 4,
 "nbformat_minor": 2
}
